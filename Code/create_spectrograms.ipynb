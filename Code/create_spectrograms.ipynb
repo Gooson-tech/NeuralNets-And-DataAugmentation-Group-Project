{
 "cells": [
  {
   "cell_type": "code",
   "execution_count": 1,
   "metadata": {
    "id": "5es4LROwA3c-"
   },
   "outputs": [],
   "source": [
    "##  Import all needed libraries\n",
    "import os\n",
    "import librosa, librosa.display\n",
    "import numpy as np\n",
    "import matplotlib.pyplot as plt\n",
    "%matplotlib inline"
   ]
  },
  {
   "cell_type": "code",
   "execution_count": 2,
   "metadata": {
    "id": "7LBFVEcaF7Pk"
   },
   "outputs": [],
   "source": [
    "##  Function will create spectrogram image from a '.wav' file\n",
    "def spectrogram(samples, sample_rate, stride_ms = 10.0, \n",
    "                          window_ms = 20.0, max_freq = 8192, eps = 1e-14):\n",
    "\n",
    "    stride_size = int(0.001 * sample_rate * stride_ms)\n",
    "    window_size = int(0.001 * sample_rate * window_ms)\n",
    "\n",
    "    # Extract strided windows\n",
    "    truncate_size = (len(samples) - window_size) % stride_size\n",
    "    samples = samples[:len(samples) - truncate_size]\n",
    "    nshape = (window_size, (len(samples) - window_size) // stride_size + 1)\n",
    "    nstrides = (samples.strides[0], samples.strides[0] * stride_size)\n",
    "    windows = np.lib.stride_tricks.as_strided(samples, \n",
    "                                          shape = nshape, strides = nstrides)\n",
    "    \n",
    "    assert np.all(windows[:, 1] == samples[stride_size:(stride_size + window_size)])\n",
    "\n",
    "    # Window weighting, squared Fast Fourier Transform (fft), scaling\n",
    "    weighting = np.hanning(window_size)[:, None]\n",
    "    \n",
    "    fft = np.fft.rfft(windows * weighting, axis=0)\n",
    "    fft = np.absolute(fft)\n",
    "    fft = fft**2\n",
    "    \n",
    "    scale = np.sum(weighting**2) * sample_rate\n",
    "    fft[1:-1, :] *= (2.0 / scale)\n",
    "    fft[(0, -1), :] /= scale\n",
    "    \n",
    "    # Prepare fft frequency list\n",
    "    freqs = float(sample_rate) / window_size * np.arange(fft.shape[0])\n",
    "    \n",
    "    # Compute spectrogram feature\n",
    "    ind = np.where(freqs <= max_freq)[0][-1] + 1\n",
    "    specgram = np.log(fft[:ind, :] + eps)\n",
    "    return specgram"
   ]
  },
  {
   "cell_type": "code",
   "execution_count": 3,
   "metadata": {
    "id": "uOaA2eMJKexD"
   },
   "outputs": [],
   "source": [
    "##  Function to save spectrogram image and save it locally\n",
    "def create_image_file(s, name):\n",
    "  librosa.display.specshow(s)\n",
    "  plt.savefig(name, bbox_inches='tight', transparent=True, pad_inches=0.0 )\n",
    "\n"
   ]
  },
  {
   "cell_type": "code",
   "execution_count": 4,
   "metadata": {
    "colab": {
     "base_uri": "https://localhost:8080/",
     "height": 252
    },
    "id": "OWcHrYiiC6qy",
    "outputId": "91abaeee-ec02-4aaf-b424-e5717bd84adf"
   },
   "outputs": [
    {
     "data": {
      "image/png": "[encoded data removed]",
      "text/plain": [
       "<Figure size 432x288 with 1 Axes>"
      ]
     },
     "metadata": {},
     "output_type": "display_data"
    }
   ],
   "source": [
    "## This will go through a directory to evaluate each file in each subdirectory.\n",
    "## We used this to step through the dataset (which consisted of '.wav' files) and\n",
    "## create the spectrogram image\n",
    "\n",
    "for subdir, dirs, files in os.walk(r'**add location where .wav are held**'):\n",
    "  for filename in files:\n",
    "    filepath = subdir + os.sep + filename\n",
    "    if filepath.endswith(\".wav\"):\n",
    "      Base=os.path.basename(filepath)\n",
    "      file_name = os.path.splitext(Base)[0]\n",
    "      signal, sample_rate = librosa.load(filepath, sr=None)\n",
    "      sgram = spectrogram(signal, sample_rate)\n",
    "      spec_image = \"sImage\" + file_name + \".png\"\n",
    "      create_image_file (sgram, spec_image)"
   ]
  },
  {
   "cell_type": "code",
   "execution_count": null,
   "metadata": {
    "colab": {
     "base_uri": "https://localhost:8080/",
     "height": 1000
    },
    "id": "AlLeyppAN9eD",
    "outputId": "61805e37-9cf2-4752-ca12-9900e35f39e7"
   },
   "outputs": [],
   "source": [
    "##  Spedcialty function that can be used w/ Google Colab to zip and download files once \n",
    "##  the have been created\n",
    "\n",
    "!zip -r '**add location where spectrograms are held**'/file.zip /content #creates zip using folder your spectographs are in, which should be in this location anyway\n",
    "from google.colab import files\n",
    "files.download(\"**add location where spectrograms are held**\"/file.zip)"
   ]
  },
  {
   "cell_type": "markdown",
   "metadata": {
    "id": "0TonIZi-NEC_"
   },
   "source": [
    "# New Section\n",
    "\n"
   ]
  },
  {
   "cell_type": "markdown",
   "metadata": {
    "id": "6tPtTpQM0k3I"
   },
   "source": [
    "# New Section"
   ]
  }
 ],
 "metadata": {
  "colab": {
   "collapsed_sections": [],
   "name": "create_specs.ipynb",
   "provenance": [],
   "toc_visible": true
  },
  "kernelspec": {
   "display_name": "Python 3",
   "language": "python",
   "name": "python3"
  },
  "language_info": {
   "codemirror_mode": {
    "name": "ipython",
    "version": 3
   },
   "file_extension": ".py",
   "mimetype": "text/x-python",
   "name": "python",
   "nbconvert_exporter": "python",
   "pygments_lexer": "ipython3",
   "version": "3.8.8"
  }
 },
 "nbformat": 4,
 "nbformat_minor": 1
}
