{
 "cells": [
  {
   "cell_type": "markdown",
   "id": "gothic-resistance",
   "metadata": {},
   "source": [
    "--Team 7: LSTM--\n",
    "Grayson Cordell\n",
    "Jacob Swindell\n",
    "Jesse Gailbreath\n",
    "Noah Norrod"
   ]
  },
  {
   "cell_type": "markdown",
   "id": "first-scheme",
   "metadata": {},
   "source": [
    "Neural  networks generally rely on extensive datasets to be most effective.\n",
    "One hurdle that many data scientists face is a lack of data to work with.\n",
    "What if you want to classify something that has a limited dataset available?\n",
    "Over the past 2 decades there have been numerous studies done related to this topic,\n",
    "especially those involving automatic speech recognition (ASR).\n",
    "Varying methods have been applied in previous research to improve performance of networks working with limited datasets.\n"
   ]
  },
  {
   "cell_type": "markdown",
   "id": "confident-legend",
   "metadata": {},
   "source": [
    "Python has numerous libraries available now to aid in making all kinds of alterations to audio datasets just for this purpose. \n",
    "By making small changes to the audio itself (augmenting the data), you can create a larger dataset.\n",
    "This will hopefully lead to training a neural network that has an increased capacity to generalize the data.\n",
    "In doing so, you should get a network that performs better."
   ]
  },
  {
   "cell_type": "markdown",
   "id": "forty-bouquet",
   "metadata": {},
   "source": [
    "The basic concept of this project is to determine the viability of certain data augmentation techniques to bolster the performance of a\n",
    "neural network used to analyze small datasets.\n",
    "We intend to use datasets comprised of audio files.\n",
    "The data will be augmented over two primary categories, pitch and time.\n",
    "New datasets will be derived from an existing set.\n",
    "Each new dataset will have specific measurable changes to the pitch and/or the time length of each sample.\n",
    "An increase in the size of the datasets will allow us to create larger training models.\n",
    "This is turn should yield a more robust and accurate neural network."
   ]
  },
  {
   "cell_type": "markdown",
   "id": "becoming-webster",
   "metadata": {},
   "source": [
    "Testing will be performed with one or more datasets readily available for analysis.\n",
    "The spoken_digit (availble within TensorFlow) catalog contains a total 2,500 audio samples.\n",
    "This will be the primary dataset used throughout the project.\n",
    "Compared to many other freely available datasets, this would be considered small.\n",
    "This project will track and record the results from the network, and be able to compare\n",
    "the results against the base case using the original dataset through the same network.\n",
    "If we are able to identify measurable improvement, it would be interesting to see if this model\n",
    "could effectively be applied to other audio datasets that have a different makeup."
   ]
  },
  {
   "cell_type": "markdown",
   "id": "overall-taste",
   "metadata": {},
   "source": [
    "We will be implementing a neural network using a CNN LSTM.  \n",
    "The input will be fed to a CNN model, then a LSTM model.\n",
    "From there it will go through dense layers before output.\n",
    "As of now, the plan is to use librosa library in Python to work with the audio samples.\n",
    "This library offers a wide variety of manipulation ability that aligns well with the goals\n",
    "of this project."
   ]
  },
  {
   "cell_type": "markdown",
   "id": "ultimate-ocean",
   "metadata": {},
   "source": [
    "The base case will be established by using the original dataset at a 70/30 split for training/validation.\n",
    "We will also use a 90/10 set for comparisson against potential overfitting.\n",
    "We will work to create at least 5 new datasets for overall testing in the network.\n",
    "1) Augmented time, set size increased by 25%\n",
    "2) Augmented pitch, set size increased by 25%\n",
    "3) Augmented time, set size increased by 50%\n",
    "4) Augmented pitch, set size increased by 50%\n",
    "5) Combination set using augmented time and pitch, set size increased by 50%"
   ]
  },
  {
   "cell_type": "markdown",
   "id": "logical-mechanics",
   "metadata": {},
   "source": [
    "Some of the key aspects that will be tracked and reproted on:\n",
    "1) The number of augmentations performed on individual samples used to build new datasets.\n",
    "2) Variances in results between newly derived datasets versus the base case.\n",
    "3) Comparisson of results of the newly derived datasets of unique sizes versus one another.\n",
    "4) Whether one type of augmentation drives greater improvement over the other.\n",
    "5) Whether augmented, original, or mixed datasets produce a higher quality network."
   ]
  },
  {
   "cell_type": "markdown",
   "id": "tight-baghdad",
   "metadata": {},
   "source": [
    "This project may draw further inspiration from previous research done on the subject ( if so, it will\n",
    "appropriately document the research)."
   ]
  },
  {
   "cell_type": "markdown",
   "id": "responsible-questionnaire",
   "metadata": {},
   "source": [
    "The expected outcome is that by expanding the dataset, we will of course be able to improve the quality of the network and its accuracy.\n",
    "We will be looking to see if there are any evident differneces in network performance based on the various alterations to the data.\n",
    "At this time, we are unsure of which augmentation type, or combination of types, will be most effective."
   ]
  }
 ],
 "metadata": {
  "kernelspec": {
   "display_name": "Python 3",
   "language": "python",
   "name": "python3"
  },
  "language_info": {
   "codemirror_mode": {
    "name": "ipython",
    "version": 3
   },
   "file_extension": ".py",
   "mimetype": "text/x-python",
   "name": "python",
   "nbconvert_exporter": "python",
   "pygments_lexer": "ipython3",
   "version": "3.8.6"
  }
 },
 "nbformat": 4,
 "nbformat_minor": 5
}
