{
 "cells": [
  {
   "cell_type": "markdown",
   "id": "communist-intranet",
   "metadata": {},
   "source": [
    "CSCI 4850/5850 Group 7"
   ]
  },
  {
   "cell_type": "markdown",
   "id": "color-session",
   "metadata": {},
   "source": [
    "Cordell, Gailbreath, Norrod, Swindell"
   ]
  },
  {
   "cell_type": "markdown",
   "id": "peaceful-outdoors",
   "metadata": {},
   "source": [
    "Milestone 3/15/20"
   ]
  },
  {
   "cell_type": "markdown",
   "id": "cellular-falls",
   "metadata": {},
   "source": [
    "| Deliverable | % Complete | Estimated Completion Date | % Complete by Next Milestone |\n",
    "| :- | :-: | :-: | :-: |\n",
    "| Code | 0% | April 19 | 25% |\n",
    "| Paper | 0% | April 21 | 15% |\n",
    "| Demo | 0% | May 1 | 5% |\n",
    "| Presentation | 0% | May 1 | 5% |"
   ]
  },
  {
   "cell_type": "markdown",
   "id": "minor-tampa",
   "metadata": {},
   "source": [
    "| What deliverable goals established in the last milestone report were accomplished to the anticipated percentage? |\n",
    "| :- |\n",
    "| Since this is the first milestone report, no anticipated percentages have been made yet. |"
   ]
  },
  {
   "cell_type": "markdown",
   "id": "moved-proceeding",
   "metadata": {},
   "source": [
    "| What deliverable goals established in the last milestone report were not accomplished to the anticipated percentage? |\n",
    "| :- |\n",
    "| Since this is the first milestone report, no anticipated percentages have been made yet. |"
   ]
  },
  {
   "cell_type": "markdown",
   "id": "disturbed-tomorrow",
   "metadata": {},
   "source": [
    "| What are the main deliverable goals to meet before the next milestone report, and who is working on them? |\n",
    "| :- |\n",
    "| We mainly need to get started on the code, as well as starting the foundations of the paper. |\n",
    "| The code is primarily being worked on by Jesse, with input from the rest of the group. |\n",
    "| The paper is being led by Grayson, with help from Noah and the rest of the group. |\n",
    "| As the code is being worked on, Jacob will be working on the demo. |"
   ]
  },
  {
   "cell_type": "markdown",
   "id": "unavailable-turkish",
   "metadata": {},
   "source": [
    "Milestone 3/22/20"
   ]
  },
  {
   "cell_type": "markdown",
   "id": "imposed-product",
   "metadata": {},
   "source": [
    "| Deliverable | % Complete | Estimated Completion Date | % Complete by Next Milestone |\n",
    "| :- | :-: | :-: | :-: |\n",
    "| Code | 20% | April 19 | 25% |\n",
    "| Paper | 5% | April 21 | 15% |\n",
    "| Demo | 0% | May 1 | 5% |\n",
    "| Presentation | 0% | May 1 | 5% |"
   ]
  },
  {
   "cell_type": "markdown",
   "id": "loose-participation",
   "metadata": {},
   "source": [
    "| What deliverable goals established in the last milestone report were accomplished to the anticipated percentage? |\n",
    "| :- |\n",
    "| We accidentally made our estimates for 29th instead of the 22nd, so they were a bit over-ambitious. |\n",
    "| We have made significant headway on the code portion so far. |"
   ]
  },
  {
   "cell_type": "markdown",
   "id": "spare-recycling",
   "metadata": {},
   "source": [
    "| What deliverable goals established in the last milestone report were not accomplished to the anticipated percentage? |\n",
    "| :- |\n",
    "| We accidentally made our estimates for 29th instead of the 22nd, so they were a bit over-ambitious. |\n",
    "| We have not yet started on the demo or presentation. |"
   ]
  },
  {
   "cell_type": "markdown",
   "id": "inclusive-hypothesis",
   "metadata": {},
   "source": [
    "| What are the main deliverable goals to meet before the next milestone report, and who is working on them? |\n",
    "| :- |\n",
    "| The code is coming along nicely, primarily led by Jesse, with input from the rest of the group. |\n",
    "| We will get started on the paper soon, led by Grayson with help from Noah and the rest of the group. |\n",
    "| Jacob will be working on the demo once more code is completed. |"
   ]
  },
  {
   "cell_type": "markdown",
   "id": "modular-valuable",
   "metadata": {},
   "source": [
    "Milestone 3/29/20"
   ]
  },
  {
   "cell_type": "markdown",
   "id": "copyrighted-excess",
   "metadata": {},
   "source": [
    "| Deliverable | % Complete | Estimated Completion Date | % Complete by Next Milestone |\n",
    "| :- | :-: | :-: | :-: |\n",
    "| Code | 20% | April 19 | 35% |\n",
    "| Paper | 10% | April 21 | 20% |\n",
    "| Demo | 0% | May 1 | 5% |\n",
    "| Presentation | 2% | May 1 | 5% |"
   ]
  },
  {
   "cell_type": "markdown",
   "id": "guilty-hungary",
   "metadata": {},
   "source": [
    "| What deliverable goals established in the last milestone report were accomplished to the anticipated percentage? |\n",
    "| :- |\n",
    "| While we did make progress in the past week, we did not reach accomplish any of the anticipated percentages. |"
   ]
  },
  {
   "cell_type": "markdown",
   "id": "growing-timothy",
   "metadata": {},
   "source": [
    "| What deliverable goals established in the last milestone report were not accomplished to the anticipated percentage? |\n",
    "| :- |\n",
    "| We made some progress on the code and paper, but not the anticipated amount. |\n",
    "| We have also not started on the demo and have just started the presentation. |"
   ]
  },
  {
   "cell_type": "markdown",
   "id": "permanent-criminal",
   "metadata": {},
   "source": [
    "| What are the main deliverable goals to meet before the next milestone report, and who is working on them? |\n",
    "| :- |\n",
    "| Jesse is still leading development of the code, and that is obviously still the main focus at the moment. |\n",
    "| We also need to have the data set prepared by the next milestone report. |\n",
    "| We have continued to collect resources for the paper, which will be led by Grayson with help from Noah and the rest of the group. |\n",
    "| For now we can't really do much in terms of the demo, but Jacob will be leading it once we have enough of the code complete. |"
   ]
  },
  {
   "cell_type": "markdown",
   "id": "reported-airplane",
   "metadata": {},
   "source": [
    "Milestone 4/5/20"
   ]
  },
  {
   "cell_type": "markdown",
   "id": "physical-decline",
   "metadata": {},
   "source": [
    "| Deliverable | % Complete | Estimated Completion Date | % Complete by Next Milestone |\n",
    "| :- | :-: | :-: | :-: |\n",
    "| Code | 25% | April 19 | 35% |\n",
    "| Paper | 16% | April 21 | 20% |\n",
    "| Demo | 0% | May 1 | 0% |\n",
    "| Presentation | 2% | May 1 | 5% |"
   ]
  },
  {
   "cell_type": "markdown",
   "id": "certain-underwear",
   "metadata": {},
   "source": [
    "| What deliverable goals established in the last milestone report were accomplished to the anticipated percentage? |\n",
    "| :- |\n",
    "| While we did make progress in the past week, we did not reach accomplish any of the anticipated percentages. |"
   ]
  },
  {
   "cell_type": "markdown",
   "id": "intense-handy",
   "metadata": {},
   "source": [
    "| What deliverable goals established in the last milestone report were not accomplished to the anticipated percentage? |\n",
    "| :- |\n",
    "| We made some progress on the code and paper, but not the anticipated amount. |\n",
    "| We have also not started on the demo and have not worked more on the presentation this week. |"
   ]
  },
  {
   "cell_type": "markdown",
   "id": "found-conclusion",
   "metadata": {},
   "source": [
    "| What are the main deliverable goals to meet before the next milestone report, and who is working on them? |\n",
    "| :- |\n",
    "| Jesse made a lot of progress on the code, but we hit a snag that set us back a bit. |\n",
    "| We have started the actual writing phase of the paper, which will be led by Grayson with help from Noah and the rest of the group. |\n",
    "| For now we can't really do much in terms of the demo, but Jacob will be leading it once we have enough of the code complete. |"
   ]
  },
  {
   "cell_type": "markdown",
   "id": "hired-member",
   "metadata": {},
   "source": [
    "Milestone 4/12/20"
   ]
  },
  {
   "cell_type": "markdown",
   "id": "personalized-natural",
   "metadata": {},
   "source": [
    "| Deliverable | % Complete | Estimated Completion Date | % Complete by Next Milestone |\n",
    "| :- | :-: | :-: | :-: |\n",
    "| Code | 60% | April 19 | 100% |\n",
    "| Paper | 16% | April 21 | 33% |\n",
    "| Demo | 0% | May 1 | 25% |\n",
    "| Presentation | 2% | May 1 | 5% |"
   ]
  },
  {
   "cell_type": "markdown",
   "id": "contained-transsexual",
   "metadata": {},
   "source": [
    "| What deliverable goals established in the last milestone report were accomplished to the anticipated percentage? |\n",
    "| :- |\n",
    "| We not only met our expected goal for the code, we have exceeded it. |\n",
    "| We now have the data set ready and are working on preparing the network around it. |"
   ]
  },
  {
   "cell_type": "markdown",
   "id": "immediate-mississippi",
   "metadata": {},
   "source": [
    "| What deliverable goals established in the last milestone report were not accomplished to the anticipated percentage? |\n",
    "| :- |\n",
    "| Despite our progress on the code, we didn't really progress on the other deliverables this week. |"
   ]
  },
  {
   "cell_type": "markdown",
   "id": "significant-pleasure",
   "metadata": {},
   "source": [
    "| What are the main deliverable goals to meet before the next milestone report, and who is working on them? |\n",
    "| :- |\n",
    "| Jesse and Grayson made significant progress on the code so far, and will keep up the good work. |\n",
    "| We have the structure for the paper, which is being led by Grayson and Noah, but will be adding more content now that the code is more complete. |\n",
    "| Now that the code is nearly done, Jacob will be leading the demo. |\n",
    "| Jacob is also putting together an explanation of the data augmentation that will be part of the paper and demo. |"
   ]
  },
  {
   "cell_type": "markdown",
   "id": "small-generic",
   "metadata": {},
   "source": [
    "Milestone 4/19/20"
   ]
  },
  {
   "cell_type": "markdown",
   "id": "naval-europe",
   "metadata": {},
   "source": [
    "| Deliverable | % Complete | Estimated Completion Date | % Complete by Next Milestone |\n",
    "| :- | :-: | :-: | :-: |\n",
    "| Code | 95% | April 23 | 100% |\n",
    "| Paper | 25% | April 23 | 100% |\n",
    "| Demo | 0% | May 1 | 25% |\n",
    "| Presentation | 2% | May 1 | 5% |"
   ]
  },
  {
   "cell_type": "markdown",
   "id": "polished-universe",
   "metadata": {},
   "source": [
    "| What deliverable goals established in the last milestone report were accomplished to the anticipated percentage? |\n",
    "| :- |\n",
    "| We did not hit any of our anticipated completion percentages this week. |"
   ]
  },
  {
   "cell_type": "markdown",
   "id": "canadian-basket",
   "metadata": {},
   "source": [
    "| What deliverable goals established in the last milestone report were not accomplished to the anticipated percentage? |\n",
    "| :- |\n",
    "| The code is almost done now, and we're dedicating this week to work on the paper and finishing the last 5% of the code. |\n",
    "| With those done, we should be able to tackle the demo and presentation shortly after. |"
   ]
  },
  {
   "cell_type": "markdown",
   "id": "backed-world",
   "metadata": {},
   "source": [
    "| What are the main deliverable goals to meet before the next milestone report, and who is working on them? |\n",
    "| :- |\n",
    "| Jesse will be working on the finishing touches to the code. |\n",
    "| All four of us will be working on the paper. |\n",
    "| We will probably not resume working on the demo and presentation until this weekend. |"
   ]
  }
 ],
 "metadata": {
  "kernelspec": {
   "display_name": "Python 3",
   "language": "python",
   "name": "python3"
  },
  "language_info": {
   "codemirror_mode": {
    "name": "ipython",
    "version": 3
   },
   "file_extension": ".py",
   "mimetype": "text/x-python",
   "name": "python",
   "nbconvert_exporter": "python",
   "pygments_lexer": "ipython3",
   "version": "3.8.6"
  }
 },
 "nbformat": 4,
 "nbformat_minor": 5
}
