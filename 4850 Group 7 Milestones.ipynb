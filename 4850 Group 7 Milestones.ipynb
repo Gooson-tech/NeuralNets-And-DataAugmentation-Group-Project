{
 "cells": [
  {
   "cell_type": "markdown",
   "id": "comic-grenada",
   "metadata": {},
   "source": [
    "CSCI 4850/5850 Group 7"
   ]
  },
  {
   "cell_type": "markdown",
   "id": "digital-screening",
   "metadata": {},
   "source": [
    "Cordell, Gailbreath, Norrod, Swindell"
   ]
  },
  {
   "cell_type": "markdown",
   "id": "artistic-diameter",
   "metadata": {},
   "source": [
    "Milestone 3/15/20"
   ]
  },
  {
   "cell_type": "markdown",
   "id": "hispanic-format",
   "metadata": {},
   "source": [
    "| Deliverable | % Complete | Estimated Completion Date | % Complete by Next Milestone |\n",
    "| :- | :-: | :-: | :-: |\n",
    "| Code | 0% | April 19 | 25% |\n",
    "| Paper | 0% | April 21 | 15% |\n",
    "| Demo | 0% | May 1 | 5% |\n",
    "| Presentation | 0% | May 1 | 5% |"
   ]
  },
  {
   "cell_type": "markdown",
   "id": "through-detail",
   "metadata": {},
   "source": [
    "| What deliverable goals established in the last milestone report were accomplished to the anticipated percentage? |\n",
    "| :- |\n",
    "| Since this is the first milestone report, no anticipated percentages have been made yet. |"
   ]
  },
  {
   "cell_type": "markdown",
   "id": "australian-stamp",
   "metadata": {},
   "source": [
    "| What deliverable goals established in the last milestone report were not accomplished to the anticipated percentage? |\n",
    "| :- |\n",
    "| Since this is the first milestone report, no anticipated percentages have been made yet. |"
   ]
  },
  {
   "cell_type": "markdown",
   "id": "emerging-score",
   "metadata": {},
   "source": [
    "| What are the main deliverable goals to meet before the next milestone report, and who is working on them? |\n",
    "| :- |\n",
    "| We mainly need to get started on the code, as well as starting the foundations of the paper. |\n",
    "| The code is primarily being worked on by Jesse, with input from the rest of the group. |\n",
    "| The paper is being led by Grayson, with help from Noah and the rest of the group. |\n",
    "| As the code is being worked on, Jacob will be working on the demo. |"
   ]
  },
  {
   "cell_type": "markdown",
   "id": "established-retention",
   "metadata": {},
   "source": [
    "Milestone 3/22/20"
   ]
  },
  {
   "cell_type": "markdown",
   "id": "formal-shelter",
   "metadata": {},
   "source": [
    "| Deliverable | % Complete | Estimated Completion Date | % Complete by Next Milestone |\n",
    "| :- | :-: | :-: | :-: |\n",
    "| Code | 20% | April 19 | 25% |\n",
    "| Paper | 5% | April 21 | 15% |\n",
    "| Demo | 0% | May 1 | 5% |\n",
    "| Presentation | 0% | May 1 | 5% |"
   ]
  },
  {
   "cell_type": "markdown",
   "id": "cubic-groove",
   "metadata": {},
   "source": [
    "| What deliverable goals established in the last milestone report were accomplished to the anticipated percentage? |\n",
    "| :- |\n",
    "| We accidentally made our estimates for 29th instead of the 22nd, so they were a bit over-ambitious. |\n",
    "| We have made significant headway on the code portion so far. |"
   ]
  },
  {
   "cell_type": "markdown",
   "id": "orange-preparation",
   "metadata": {},
   "source": [
    "| What deliverable goals established in the last milestone report were not accomplished to the anticipated percentage? |\n",
    "| :- |\n",
    "| We accidentally made our estimates for 29th instead of the 22nd, so they were a bit over-ambitious. |\n",
    "| We have not yet started on the paper or presentation. |"
   ]
  },
  {
   "cell_type": "markdown",
   "id": "forced-treasury",
   "metadata": {},
   "source": [
    "| What are the main deliverable goals to meet before the next milestone report, and who is working on them? |\n",
    "| :- |\n",
    "| The code is coming along nicely, primarily led by Jesse, with input from the rest of the group. |\n",
    "| We will get started on the paper soon, led by Grayson with help from Noah and the rest of the group. |\n",
    "| Jacob will be working on the demo once more code is completed. |"
   ]
  }
 ],
 "metadata": {
  "kernelspec": {
   "display_name": "Python 3",
   "language": "python",
   "name": "python3"
  },
  "language_info": {
   "codemirror_mode": {
    "name": "ipython",
    "version": 3
   },
   "file_extension": ".py",
   "mimetype": "text/x-python",
   "name": "python",
   "nbconvert_exporter": "python",
   "pygments_lexer": "ipython3",
   "version": "3.8.6"
  }
 },
 "nbformat": 4,
 "nbformat_minor": 5
}
