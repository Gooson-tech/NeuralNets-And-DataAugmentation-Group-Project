{
 "cells": [
  {
   "cell_type": "markdown",
   "metadata": {
    "colab": {
     "base_uri": "https://localhost:8080/"
    },
    "id": "fqiiQx_Zw-Yy",
    "outputId": "acaeb020-50bf-4a6c-f8e4-d04d58370902"
   },
   "source": [
    "WELCOME TO THE DEMO!!!\n",
    "\n",
    "Let's get going!  We are going to assume you are using our custom datasets for this.  We used a Google Drive to store the data.  The following code supports the use of a Google Drive and code execution on Google Colab.\n",
    "\n",
    "What do I need right now?\n",
    "1.  A Google account\n",
    "2.  Access to you own Google Drive\n",
    "\n",
    "Once that is taken care of, head over to the Data section and copy our datasets to your Google Drive.  You will need these 3 sets: \n",
    "1. original_data_set   (these are the 3000 spectrogram images converted directly from the free-spoken-digit dataset)\n",
    "2. plusAugmented       (these are the originals PLUS all of our custom spectrograms crafted from our own augmented audio files for a total of 32,898 images)\n",
    "3.  unssen_originals   (102 original unaltered spectrogram images NOT included in the plusAugmented batch)\n",
    "\n",
    "Go grab yourself a snack.  This will take a minute (or 12...or 20).\n"
   ]
  },
  {
   "cell_type": "markdown",
   "metadata": {},
   "source": [
    "Next step, head over to Google Colab  (https://colab.research.google.com/).\n",
    "You need to mount your Google Drive so you can have access to the datasets.\n",
    "Execute the cell below to get started."
   ]
  },
  {
   "cell_type": "code",
   "execution_count": null,
   "metadata": {},
   "outputs": [],
   "source": [
    " #this code snippet is02 used to import our custom dataset\n",
    "from google.colab import drive\n",
    "drive.mount('/content/drive')"
   ]
  },
  {
   "cell_type": "markdown",
   "metadata": {},
   "source": [
    "Now we are cooking with grease!\n",
    "\n",
    "The following section of code will import all the needed modules used to build our neural network.\n",
    "\n",
    "If you get an error related to modules not being present, please refer here on how to install them locally:\n",
    "https://docs.python.org/3/installing/index.html"
   ]
  },
  {
   "cell_type": "code",
   "execution_count": 2,
   "metadata": {
    "id": "aypuXUoiv3O5"
   },
   "outputs": [],
   "source": [
    "# import all necessary modules\n",
    "import tensorflow as tf\n",
    "from tensorflow import keras\n",
    "from tensorflow.keras import layers\n",
    "import numpy as np\n",
    "from IPython.display import display\n",
    "import matplotlib.pyplot as plt\n",
    "%matplotlib inline"
   ]
  },
  {
   "cell_type": "markdown",
   "metadata": {},
   "source": [
    "Next step we need to set up the variables we used in the model.\n",
    "\n",
    "We processed the images as 256 X 256.  You can change these settings if you like to make the picture smaller ( like 128 X 128) or larger (512 X 512). Smaller settings will process faster, but less detail means less accuracy.  The opposite would be the case for larger.\n",
    "\n",
    "Be sure to use 3 for rgb (red blue green) setting to designate the images are in color.\n",
    "\n",
    "Next up, figure out your batch size (how many images you want to process at a time) and the number or epochs (how many times you want to process the batch).  These are totally adjustable.  Careful though, there can be too much of a good thing.  We found that a batch size of 10 and 50 epochs would yield some decent results."
   ]
  },
  {
   "cell_type": "code",
   "execution_count": 3,
   "metadata": {
    "id": "x6BDv0ilna3d"
   },
   "outputs": [],
   "source": [
    "# set the variables to work with throughout model\n",
    "img_height = 256\n",
    "img_width= 256\n",
    "rgb = 3\n",
    "batch_size = 10  \n",
    "epochs = 50"
   ]
  },
  {
   "cell_type": "markdown",
   "metadata": {},
   "source": [
    "Alright, so it's time to get the data loaded.  Be sure to use your local path to the data.  Also be sure that you are placing the correct path into the proper identifier (originals to ods_trian for example)."
   ]
  },
  {
   "cell_type": "code",
   "execution_count": 4,
   "metadata": {
    "colab": {
     "base_uri": "https://localhost:8080/"
    },
    "id": "HdU7nDvlna3d",
    "outputId": "270da412-e8c3-42f0-837a-12903c83b857"
   },
   "outputs": [
    {
     "name": "stdout",
     "output_type": "stream",
     "text": [
      "Found 3000 files belonging to 10 classes.\n",
      "Using 2100 files for training.\n"
     ]
    }
   ],
   "source": [
    "# set-up training data from the original dataset only\n",
    "ods_train = tf.keras.preprocessing.image_dataset_from_directory(\n",
    "    '/content/drive/MyDrive/original_data_set', # need local path to directory\n",
    "    labels = 'inferred',\n",
    "    label_mode = 'categorical',\n",
    "    batch_size = batch_size,\n",
    "    image_size = (img_height, img_width),\n",
    "    shuffle = True,\n",
    "    seed = 123,\n",
    "    validation_split = 0.3,\n",
    "    subset = 'training',\n",
    ")"
   ]
  },
  {
   "cell_type": "code",
   "execution_count": 5,
   "metadata": {
    "colab": {
     "base_uri": "https://localhost:8080/"
    },
    "id": "22tdAQaYYUlH",
    "outputId": "55d36848-9c7d-4ffe-d058-8a8edd36c863"
   },
   "outputs": [
    {
     "name": "stdout",
     "output_type": "stream",
     "text": [
      "Found 32898 files belonging to 10 classes.\n",
      "Using 23029 files for training.\n"
     ]
    }
   ],
   "source": [
    "# set-up training data using original plus the augmented data as well\n",
    "plusAugmented_train = tf.keras.preprocessing.image_dataset_from_directory(\n",
    "    '/content/drive/MyDrive/plusAugmented', # need local path to directory\n",
    "    labels = 'inferred',\n",
    "    label_mode = 'categorical',\n",
    "    batch_size = batch_size,\n",
    "    image_size = (img_height, img_width),\n",
    "    shuffle = True,\n",
    "    seed = 123,\n",
    "    validation_split = 0.3,\n",
    "    subset = 'training',\n",
    ")"
   ]
  },
  {
   "cell_type": "code",
   "execution_count": 6,
   "metadata": {
    "colab": {
     "base_uri": "https://localhost:8080/"
    },
    "id": "86IRS8egna3e",
    "outputId": "4a1c509d-414b-46bf-9ff9-8cf1a98baef3"
   },
   "outputs": [
    {
     "name": "stdout",
     "output_type": "stream",
     "text": [
      "Found 3000 files belonging to 10 classes.\n",
      "Using 900 files for validation.\n"
     ]
    }
   ],
   "source": [
    "# now create a batch to test ont the plusAugmented model with unseen original images\n",
    "ods_test = tf.keras.preprocessing.image_dataset_from_directory(\n",
    "   '/content/drive/MyDrive/original_data_set', # need local path to directory\n",
    "    labels = 'inferred',\n",
    "    label_mode = 'categorical',\n",
    "    batch_size = batch_size,\n",
    "    image_size = (img_height, img_width),\n",
    "    shuffle = True,\n",
    "    seed = 456,\n",
    "    validation_split = 0.3,\n",
    "    subset = \"validation\",\n",
    ")"
   ]
  },
  {
   "cell_type": "code",
   "execution_count": 7,
   "metadata": {
    "colab": {
     "base_uri": "https://localhost:8080/"
    },
    "id": "4ZH_BpvdZDqW",
    "outputId": "eb93108d-3da9-4bde-b335-8210079505a8"
   },
   "outputs": [
    {
     "name": "stdout",
     "output_type": "stream",
     "text": [
      "Found 32898 files belonging to 10 classes.\n",
      "Using 9869 files for validation.\n"
     ]
    }
   ],
   "source": [
    "# also need a batch to test with from the original plus augmented dataset\n",
    "plusAugmented_test = tf.keras.preprocessing.image_dataset_from_directory(\n",
    "    '/content/drive/MyDrive/plusAugmented', # need local path to directory\n",
    "    labels = 'inferred',\n",
    "    label_mode = 'categorical',\n",
    "    batch_size = batch_size,\n",
    "    image_size = (img_height, img_width),\n",
    "    shuffle = True,\n",
    "    seed = 456,\n",
    "    validation_split = 0.3,\n",
    "    subset = \"validation\",\n",
    ")"
   ]
  },
  {
   "cell_type": "code",
   "execution_count": 8,
   "metadata": {
    "colab": {
     "base_uri": "https://localhost:8080/"
    },
    "id": "RmSjGUwC37VL",
    "outputId": "167a1ca1-c06e-495e-fe7c-3e2b3a376ac2"
   },
   "outputs": [
    {
     "name": "stdout",
     "output_type": "stream",
     "text": [
      "Found 102 files belonging to 10 classes.\n"
     ]
    }
   ],
   "source": [
    "# the real test....\n",
    "# NOW, a batch of unseen originals the plusAugmented model has not seen\n",
    "unseen_test = tf.keras.preprocessing.image_dataset_from_directory(\n",
    "    '/content/drive/MyDrive/unseen_originals', # need local path to directory\n",
    "    labels = 'inferred',\n",
    "    label_mode = 'categorical',\n",
    "    batch_size = batch_size,\n",
    "    image_size = (img_height, img_width),\n",
    "    shuffle = True,\n",
    "    seed = 456,\n",
    ")"
   ]
  },
  {
   "cell_type": "markdown",
   "metadata": {},
   "source": [
    "You may have noticed that last batch we made does not have a validaiton split included.  That's because the unseen_test batch is strictly to test the trained model made from the plusAugmented dataset.  A split is not necessary."
   ]
  },
  {
   "cell_type": "markdown",
   "metadata": {},
   "source": [
    "Now it's time to make the doughnuts!\n",
    "\n",
    "The following cell will build the model.  If you have an interest, you can twist and tweak quite a few variables here to alter how the model will perform.  For starters, I would suggest you use it as-is since this was the exact set-up used to get our final results.  You can always come back and customize it and try out something new a little later."
   ]
  },
  {
   "cell_type": "code",
   "execution_count": 9,
   "metadata": {
    "id": "sKjcjOEFXHdn"
   },
   "outputs": [],
   "source": [
    "#  build up model\n",
    "model = keras.models.Sequential()\n",
    "model.add(keras.layers.Convolution2D(16, kernel_size = (5, 5), input_shape=(img_height, img_width, rgb ), activation='relu'))\n",
    "model.add(keras.layers.Convolution2D(16, kernel_size = (3, 3), activation='relu'))\n",
    "model.add(keras.layers.BatchNormalization())\n",
    "model.add(keras.layers.MaxPooling2D(pool_size=(2, 2)))\n",
    "model.add(keras.layers.Dropout(0.2))\n",
    "# have to make sure we pass the correct shape to LSTM\n",
    "# use reshape to convert from 2D to 3D!\n",
    "model.add(keras.layers.Reshape((125, -1)))\n",
    "# using TimeDistributed layer\n",
    "# this makes sure the dense layer keeps track of the \n",
    "# temporal aspects of the data\n",
    "model.add(keras.layers.TimeDistributed(layers.Dense(50)))\n",
    "model.add(keras.layers.LSTM(50, return_sequences=False))\n",
    "model.add(keras.layers.Dense(10,activation = 'softmax'))"
   ]
  },
  {
   "cell_type": "markdown",
   "metadata": {},
   "source": [
    "This next step is not 100% needed, but does give a really nice visual on the model structure.  It will display each layer's input and output.  This will give you an idea of how each layer connects moving downstream."
   ]
  },
  {
   "cell_type": "code",
   "execution_count": 10,
   "metadata": {
    "colab": {
     "base_uri": "https://localhost:8080/",
     "height": 1000
    },
    "id": "-h5RDCHJ2GjK",
    "outputId": "836bab9f-f006-419b-bfae-52b2f6295885"
   },
   "outputs": [
    {
     "data": {
      "image/png": "[encoded data removed]",
      "text/plain": [
       "<IPython.core.display.Image object>"
      ]
     },
     "execution_count": 10,
     "metadata": {
      "tags": []
     },
     "output_type": "execute_result"
    }
   ],
   "source": [
    "# display model layers w/ input and output from layers\n",
    "tf.keras.utils.plot_model(model, show_shapes=True, expand_nested=True)"
   ]
  },
  {
   "cell_type": "markdown",
   "metadata": {},
   "source": [
    "We now have parameters in place, data initialized and split-up, and a model woven together.  Time to compile the model and get it ready to process."
   ]
  },
  {
   "cell_type": "code",
   "execution_count": 11,
   "metadata": {
    "id": "g96oGTRyZSPt"
   },
   "outputs": [],
   "source": [
    "# compile model   \n",
    "model.compile(optimizer = keras.optimizers.Adam(),\n",
    "             loss = [ keras.losses.CategoricalCrossentropy(from_logits=True)],\n",
    "             metrics = [ keras.metrics.CategoricalAccuracy()])"
   ]
  },
  {
   "cell_type": "markdown",
   "metadata": {},
   "source": [
    "The next step is not a requirement either, but again, this gives some insight into what is happening with the model.  A quick snapshot of each layer and how many parameters it will be working with summarized at the end.  Now, don't let the low number of total parameters at the end fool you.  This thing is going to take up a fair amount of time run (unless you are using some serious GPU horsepower)."
   ]
  },
  {
   "cell_type": "code",
   "execution_count": 12,
   "metadata": {
    "colab": {
     "base_uri": "https://localhost:8080/"
    },
    "id": "NVpTtrU_vEXf",
    "outputId": "936edeba-8e08-4547-c78f-e3d9d7dcf85e"
   },
   "outputs": [
    {
     "name": "stdout",
     "output_type": "stream",
     "text": [
      "Model: \"sequential\"\n",
      "_________________________________________________________________\n",
      "Layer (type)                 Output Shape              Param #   \n",
      "=================================================================\n",
      "conv2d (Conv2D)              (None, 252, 252, 16)      1216      \n",
      "_________________________________________________________________\n",
      "conv2d_1 (Conv2D)            (None, 250, 250, 16)      2320      \n",
      "_________________________________________________________________\n",
      "batch_normalization (BatchNo (None, 250, 250, 16)      64        \n",
      "_________________________________________________________________\n",
      "max_pooling2d (MaxPooling2D) (None, 125, 125, 16)      0         \n",
      "_________________________________________________________________\n",
      "dropout (Dropout)            (None, 125, 125, 16)      0         \n",
      "_________________________________________________________________\n",
      "reshape (Reshape)            (None, 125, 2000)         0         \n",
      "_________________________________________________________________\n",
      "time_distributed (TimeDistri (None, 125, 50)           100050    \n",
      "_________________________________________________________________\n",
      "lstm (LSTM)                  (None, 50)                20200     \n",
      "_________________________________________________________________\n",
      "dense_1 (Dense)              (None, 10)                510       \n",
      "=================================================================\n",
      "Total params: 124,360\n",
      "Trainable params: 124,328\n",
      "Non-trainable params: 32\n",
      "_________________________________________________________________\n"
     ]
    }
   ],
   "source": [
    "# show a summary of layers and the parameters\n",
    "model.summary()"
   ]
  },
  {
   "cell_type": "markdown",
   "metadata": {},
   "source": [
    "I guess it's time to make the magic happen...Let the training begin!!"
   ]
  },
  {
   "cell_type": "code",
   "execution_count": 13,
   "metadata": {
    "colab": {
     "base_uri": "https://localhost:8080/"
    },
    "id": "jvFjZ7fZna3e",
    "outputId": "6780f227-c492-4651-8440-64a73764acb3"
   },
   "outputs": [
    {
     "name": "stdout",
     "output_type": "stream",
     "text": [
      "Epoch 1/50\n",
      "210/210 [==============================] - 16s 58ms/step - loss: 2.2997 - categorical_accuracy: 0.1378\n",
      "Epoch 2/50\n",
      "210/210 [==============================] - 12s 56ms/step - loss: 2.1576 - categorical_accuracy: 0.2259\n",
      "Epoch 3/50\n",
      "210/210 [==============================] - 12s 56ms/step - loss: 1.9966 - categorical_accuracy: 0.2821\n",
      "Epoch 4/50\n",
      "210/210 [==============================] - 12s 57ms/step - loss: 1.8287 - categorical_accuracy: 0.3530\n",
      "Epoch 5/50\n",
      "210/210 [==============================] - 12s 57ms/step - loss: 1.7162 - categorical_accuracy: 0.3992\n",
      "Epoch 6/50\n",
      "210/210 [==============================] - 12s 56ms/step - loss: 1.5575 - categorical_accuracy: 0.4567\n",
      "Epoch 7/50\n",
      "210/210 [==============================] - 12s 56ms/step - loss: 1.4317 - categorical_accuracy: 0.5009\n",
      "Epoch 8/50\n",
      "210/210 [==============================] - 12s 55ms/step - loss: 1.3621 - categorical_accuracy: 0.5321\n",
      "Epoch 9/50\n",
      "210/210 [==============================] - 12s 58ms/step - loss: 1.3582 - categorical_accuracy: 0.5403\n",
      "Epoch 10/50\n",
      "210/210 [==============================] - 12s 58ms/step - loss: 1.2354 - categorical_accuracy: 0.5976\n",
      "Epoch 11/50\n",
      "210/210 [==============================] - 12s 55ms/step - loss: 1.1533 - categorical_accuracy: 0.6293\n",
      "Epoch 12/50\n",
      "210/210 [==============================] - 12s 56ms/step - loss: 1.0507 - categorical_accuracy: 0.6606\n",
      "Epoch 13/50\n",
      "210/210 [==============================] - 12s 56ms/step - loss: 1.0147 - categorical_accuracy: 0.6619\n",
      "Epoch 14/50\n",
      "210/210 [==============================] - 12s 57ms/step - loss: 0.9988 - categorical_accuracy: 0.6763\n",
      "Epoch 15/50\n",
      "210/210 [==============================] - 12s 57ms/step - loss: 0.9702 - categorical_accuracy: 0.6859\n",
      "Epoch 16/50\n",
      "210/210 [==============================] - 13s 59ms/step - loss: 0.8760 - categorical_accuracy: 0.7149\n",
      "Epoch 17/50\n",
      "210/210 [==============================] - 12s 58ms/step - loss: 0.8052 - categorical_accuracy: 0.7512\n",
      "Epoch 18/50\n",
      "210/210 [==============================] - 13s 59ms/step - loss: 0.7707 - categorical_accuracy: 0.7537\n",
      "Epoch 19/50\n",
      "210/210 [==============================] - 13s 60ms/step - loss: 0.7371 - categorical_accuracy: 0.7646\n",
      "Epoch 20/50\n",
      "210/210 [==============================] - 12s 58ms/step - loss: 0.6684 - categorical_accuracy: 0.7741\n",
      "Epoch 21/50\n",
      "210/210 [==============================] - 12s 58ms/step - loss: 0.6629 - categorical_accuracy: 0.7814\n",
      "Epoch 22/50\n",
      "210/210 [==============================] - 13s 59ms/step - loss: 0.6258 - categorical_accuracy: 0.8055\n",
      "Epoch 23/50\n",
      "210/210 [==============================] - 13s 58ms/step - loss: 0.6675 - categorical_accuracy: 0.7702\n",
      "Epoch 24/50\n",
      "210/210 [==============================] - 12s 58ms/step - loss: 0.5287 - categorical_accuracy: 0.8306\n",
      "Epoch 25/50\n",
      "210/210 [==============================] - 13s 58ms/step - loss: 0.5366 - categorical_accuracy: 0.8230\n",
      "Epoch 26/50\n",
      "210/210 [==============================] - 13s 59ms/step - loss: 0.5266 - categorical_accuracy: 0.8364\n",
      "Epoch 27/50\n",
      "210/210 [==============================] - 13s 58ms/step - loss: 0.4701 - categorical_accuracy: 0.8554\n",
      "Epoch 28/50\n",
      "210/210 [==============================] - 12s 58ms/step - loss: 0.4347 - categorical_accuracy: 0.8624\n",
      "Epoch 29/50\n",
      "210/210 [==============================] - 13s 58ms/step - loss: 0.4618 - categorical_accuracy: 0.8592\n",
      "Epoch 30/50\n",
      "210/210 [==============================] - 13s 59ms/step - loss: 0.5215 - categorical_accuracy: 0.8352\n",
      "Epoch 31/50\n",
      "210/210 [==============================] - 12s 58ms/step - loss: 0.4063 - categorical_accuracy: 0.8647\n",
      "Epoch 32/50\n",
      "210/210 [==============================] - 13s 59ms/step - loss: 0.3753 - categorical_accuracy: 0.8857\n",
      "Epoch 33/50\n",
      "210/210 [==============================] - 13s 59ms/step - loss: 0.3645 - categorical_accuracy: 0.8985\n",
      "Epoch 34/50\n",
      "210/210 [==============================] - 13s 59ms/step - loss: 0.3322 - categorical_accuracy: 0.9047\n",
      "Epoch 35/50\n",
      "210/210 [==============================] - 13s 59ms/step - loss: 0.3033 - categorical_accuracy: 0.9104\n",
      "Epoch 36/50\n",
      "210/210 [==============================] - 13s 59ms/step - loss: 0.3257 - categorical_accuracy: 0.9028\n",
      "Epoch 37/50\n",
      "210/210 [==============================] - 13s 59ms/step - loss: 0.3474 - categorical_accuracy: 0.8830\n",
      "Epoch 38/50\n",
      "210/210 [==============================] - 13s 58ms/step - loss: 0.3009 - categorical_accuracy: 0.9108\n",
      "Epoch 39/50\n",
      "210/210 [==============================] - 13s 59ms/step - loss: 0.2654 - categorical_accuracy: 0.9164\n",
      "Epoch 40/50\n",
      "210/210 [==============================] - 13s 59ms/step - loss: 0.2373 - categorical_accuracy: 0.9260\n",
      "Epoch 41/50\n",
      "210/210 [==============================] - 13s 60ms/step - loss: 0.2437 - categorical_accuracy: 0.9338\n",
      "Epoch 42/50\n",
      "210/210 [==============================] - 13s 58ms/step - loss: 0.2465 - categorical_accuracy: 0.9315\n",
      "Epoch 43/50\n",
      "210/210 [==============================] - 12s 58ms/step - loss: 0.2742 - categorical_accuracy: 0.9257\n",
      "Epoch 44/50\n",
      "210/210 [==============================] - 12s 58ms/step - loss: 0.3473 - categorical_accuracy: 0.8931\n",
      "Epoch 45/50\n",
      "210/210 [==============================] - 12s 58ms/step - loss: 0.2505 - categorical_accuracy: 0.9241\n",
      "Epoch 46/50\n",
      "210/210 [==============================] - 12s 58ms/step - loss: 0.1715 - categorical_accuracy: 0.9554\n",
      "Epoch 47/50\n",
      "210/210 [==============================] - 12s 57ms/step - loss: 0.2013 - categorical_accuracy: 0.9404\n",
      "Epoch 48/50\n",
      "210/210 [==============================] - 12s 58ms/step - loss: 0.2296 - categorical_accuracy: 0.9271\n",
      "Epoch 49/50\n",
      "210/210 [==============================] - 12s 58ms/step - loss: 0.2201 - categorical_accuracy: 0.9338\n",
      "Epoch 50/50\n",
      "210/210 [==============================] - 12s 57ms/step - loss: 0.2234 - categorical_accuracy: 0.9258\n"
     ]
    }
   ],
   "source": [
    "# training the original dataset\n",
    "ods_history = model.fit(ods_train,\n",
    "                    batch_size = batch_size,\n",
    "                    epochs = epochs,\n",
    "                    verbose = 1)"
   ]
  },
  {
   "cell_type": "markdown",
   "metadata": {},
   "source": [
    "The next cell gives us a little info on what just happened.  It will show you how well the training went."
   ]
  },
  {
   "cell_type": "code",
   "execution_count": 14,
   "metadata": {
    "colab": {
     "base_uri": "https://localhost:8080/",
     "height": 297
    },
    "id": "ZRtaEIBsPVhr",
    "outputId": "be3823f5-4456-4038-941a-251236c5af9f"
   },
   "outputs": [
    {
     "data": {
      "image/png": "[encoded data removed]",
      "text/plain": [
       "<Figure size 432x288 with 2 Axes>"
      ]
     },
     "metadata": {
      "needs_background": "light",
      "tags": []
     },
     "output_type": "display_data"
    }
   ],
   "source": [
    "# how did we do?\n",
    "# graphically display results of training\n",
    "plt.figure()\n",
    "plt.subplot(211)\n",
    "plt.plot(ods_history.history['categorical_accuracy'])\n",
    "plt.title('Using Original Data: Model Accuracy')\n",
    "plt.ylabel('Accuracy')\n",
    "plt.xlabel('Epoch')\n",
    "plt.legend(['training'], loc = 'upper left')\n",
    "\n",
    "plt.subplot(212)\n",
    "plt.plot(ods_history.history['loss'])\n",
    "plt.title('Using Original Data: Model Loss')\n",
    "plt.ylabel('Loss')\n",
    "plt.xlabel('Epoch')\n",
    "plt.legend(['training'], loc = 'upper right')\n",
    "\n",
    "plt.tight_layout()\n",
    "plt.show()"
   ]
  },
  {
   "cell_type": "markdown",
   "metadata": {},
   "source": [
    "Cool little feature here.  You don't have to do this, but if you would like to be able to access these results for future use this will save your model after training.  "
   ]
  },
  {
   "cell_type": "code",
   "execution_count": 15,
   "metadata": {
    "id": "h38aMJU6fX3u"
   },
   "outputs": [],
   "source": [
    "# go ahead and save the model here\n",
    "model.save(\"ods_16.h5\") # you can pick your own filename, just be sure to put .h5 at the end"
   ]
  },
  {
   "cell_type": "markdown",
   "metadata": {},
   "source": [
    "One step closer to the end.\n",
    "\n",
    "The model has been trained.  Let's check and validate that training.  The next cell uses the unseen chunk of images pulled off for validation.  We will be able to see how accurate our model really is."
   ]
  },
  {
   "cell_type": "code",
   "execution_count": 16,
   "metadata": {
    "colab": {
     "base_uri": "https://localhost:8080/"
    },
    "id": "WC3LyQwOXHdo",
    "outputId": "bb1c77e0-0c19-4384-9006-5c67f60a8fa2"
   },
   "outputs": [
    {
     "name": "stdout",
     "output_type": "stream",
     "text": [
      "90/90 [==============================] - 5s 44ms/step - loss: 0.9950 - categorical_accuracy: 0.7089\n",
      "Using only original test samples:\n",
      "Accuracy:  70.88888883590698\n",
      "Loss:  0.9950082898139954\n"
     ]
    }
   ],
   "source": [
    "# now test the model against the reserved unseen images from the original dataset\n",
    "ods_t = model.evaluate(ods_test, verbose = 1)\n",
    "print(\"Using only original test samples:\")\n",
    "print(\"Accuracy: \", ods_t[1] * 100)\n",
    "print(\"Loss: \", ods_t[0])"
   ]
  },
  {
   "cell_type": "markdown",
   "metadata": {},
   "source": [
    "Now repeat the training and testing process for the plusAugmented data set.  Just a reminder, this one is ten times larger than the original.  Once you get it up and running, consider turning on the TV and catching a show.  May I suggest a Star Wars movie...possibly a few of them (just kidding).  Just something to pass the time due to the volume of data to process."
   ]
  },
  {
   "cell_type": "code",
   "execution_count": 17,
   "metadata": {
    "colab": {
     "base_uri": "https://localhost:8080/"
    },
    "id": "0mLlfFwgZUlR",
    "outputId": "6aa393b5-4f9c-48d9-dd1f-8b1cf856cbb7"
   },
   "outputs": [
    {
     "name": "stdout",
     "output_type": "stream",
     "text": [
      "Epoch 1/50\n",
      "2303/2303 [==============================] - 140s 61ms/step - loss: 1.1516 - categorical_accuracy: 0.6423\n",
      "Epoch 2/50\n",
      "2303/2303 [==============================] - 142s 61ms/step - loss: 0.7695 - categorical_accuracy: 0.7550\n",
      "Epoch 3/50\n",
      "2303/2303 [==============================] - 140s 61ms/step - loss: 0.6213 - categorical_accuracy: 0.7996\n",
      "Epoch 4/50\n",
      "2303/2303 [==============================] - 142s 61ms/step - loss: 0.5417 - categorical_accuracy: 0.8251\n",
      "Epoch 5/50\n",
      "2303/2303 [==============================] - 138s 60ms/step - loss: 0.4595 - categorical_accuracy: 0.8500\n",
      "Epoch 6/50\n",
      "2303/2303 [==============================] - 141s 61ms/step - loss: 0.4307 - categorical_accuracy: 0.8574\n",
      "Epoch 7/50\n",
      "2303/2303 [==============================] - 139s 60ms/step - loss: 0.4312 - categorical_accuracy: 0.8619\n",
      "Epoch 8/50\n",
      "2303/2303 [==============================] - 141s 61ms/step - loss: 0.3700 - categorical_accuracy: 0.8809\n",
      "Epoch 9/50\n",
      "2303/2303 [==============================] - 141s 61ms/step - loss: 0.3454 - categorical_accuracy: 0.8880\n",
      "Epoch 10/50\n",
      "2303/2303 [==============================] - 139s 60ms/step - loss: 0.3274 - categorical_accuracy: 0.8942\n",
      "Epoch 11/50\n",
      "2303/2303 [==============================] - 140s 61ms/step - loss: 0.3049 - categorical_accuracy: 0.9002\n",
      "Epoch 12/50\n",
      "2303/2303 [==============================] - 142s 61ms/step - loss: 0.3972 - categorical_accuracy: 0.8826\n",
      "Epoch 13/50\n",
      "2303/2303 [==============================] - 138s 60ms/step - loss: 0.2811 - categorical_accuracy: 0.9092\n",
      "Epoch 14/50\n",
      "2303/2303 [==============================] - 137s 59ms/step - loss: 0.2708 - categorical_accuracy: 0.9110\n",
      "Epoch 15/50\n",
      "2303/2303 [==============================] - 140s 61ms/step - loss: 0.2342 - categorical_accuracy: 0.9234\n",
      "Epoch 16/50\n",
      "2303/2303 [==============================] - 141s 61ms/step - loss: 0.2314 - categorical_accuracy: 0.9234\n",
      "Epoch 17/50\n",
      "2303/2303 [==============================] - 141s 61ms/step - loss: 0.2203 - categorical_accuracy: 0.9290\n",
      "Epoch 18/50\n",
      "2303/2303 [==============================] - 141s 61ms/step - loss: 0.2113 - categorical_accuracy: 0.9300\n",
      "Epoch 19/50\n",
      "2303/2303 [==============================] - 142s 61ms/step - loss: 0.1806 - categorical_accuracy: 0.9409\n",
      "Epoch 20/50\n",
      "2303/2303 [==============================] - 140s 61ms/step - loss: 0.1936 - categorical_accuracy: 0.9375\n",
      "Epoch 21/50\n",
      "2303/2303 [==============================] - 138s 60ms/step - loss: 0.1876 - categorical_accuracy: 0.9377\n",
      "Epoch 22/50\n",
      "2303/2303 [==============================] - 137s 60ms/step - loss: 0.1719 - categorical_accuracy: 0.9439\n",
      "Epoch 23/50\n",
      "2303/2303 [==============================] - 136s 59ms/step - loss: 0.1804 - categorical_accuracy: 0.9426\n",
      "Epoch 24/50\n",
      "2303/2303 [==============================] - 134s 58ms/step - loss: 0.1750 - categorical_accuracy: 0.9424\n",
      "Epoch 25/50\n",
      "2303/2303 [==============================] - 135s 58ms/step - loss: 0.1645 - categorical_accuracy: 0.9469\n",
      "Epoch 26/50\n",
      "2303/2303 [==============================] - 138s 60ms/step - loss: 0.1469 - categorical_accuracy: 0.9530\n",
      "Epoch 27/50\n",
      "2303/2303 [==============================] - 134s 58ms/step - loss: 0.1397 - categorical_accuracy: 0.9536\n",
      "Epoch 28/50\n",
      "2303/2303 [==============================] - 135s 58ms/step - loss: 0.1366 - categorical_accuracy: 0.9549\n",
      "Epoch 29/50\n",
      "2303/2303 [==============================] - 136s 59ms/step - loss: 0.1768 - categorical_accuracy: 0.9422\n",
      "Epoch 30/50\n",
      "2303/2303 [==============================] - 135s 59ms/step - loss: 0.1379 - categorical_accuracy: 0.9556\n",
      "Epoch 31/50\n",
      "2303/2303 [==============================] - 136s 59ms/step - loss: 0.1430 - categorical_accuracy: 0.9545\n",
      "Epoch 32/50\n",
      "2303/2303 [==============================] - 134s 58ms/step - loss: 0.1347 - categorical_accuracy: 0.9555\n",
      "Epoch 33/50\n",
      "2303/2303 [==============================] - 135s 58ms/step - loss: 0.1256 - categorical_accuracy: 0.9597\n",
      "Epoch 34/50\n",
      "2303/2303 [==============================] - 133s 58ms/step - loss: 0.1229 - categorical_accuracy: 0.9610\n",
      "Epoch 35/50\n",
      "2303/2303 [==============================] - 135s 58ms/step - loss: 0.1296 - categorical_accuracy: 0.9571\n",
      "Epoch 36/50\n",
      "2303/2303 [==============================] - 134s 58ms/step - loss: 0.1287 - categorical_accuracy: 0.9588\n",
      "Epoch 37/50\n",
      "2303/2303 [==============================] - 134s 58ms/step - loss: 0.1063 - categorical_accuracy: 0.9639\n",
      "Epoch 38/50\n",
      "2303/2303 [==============================] - 133s 58ms/step - loss: 0.1174 - categorical_accuracy: 0.9627\n",
      "Epoch 39/50\n",
      "2303/2303 [==============================] - 134s 58ms/step - loss: 0.1092 - categorical_accuracy: 0.9645\n",
      "Epoch 40/50\n",
      "2303/2303 [==============================] - 135s 58ms/step - loss: 0.1152 - categorical_accuracy: 0.9635\n",
      "Epoch 41/50\n",
      "2303/2303 [==============================] - 136s 59ms/step - loss: 0.1047 - categorical_accuracy: 0.9655\n",
      "Epoch 42/50\n",
      "2303/2303 [==============================] - 135s 58ms/step - loss: 0.1005 - categorical_accuracy: 0.9673\n",
      "Epoch 43/50\n",
      "2303/2303 [==============================] - 134s 58ms/step - loss: 0.1117 - categorical_accuracy: 0.9641\n",
      "Epoch 44/50\n",
      "2303/2303 [==============================] - 134s 58ms/step - loss: 0.0976 - categorical_accuracy: 0.9690\n",
      "Epoch 45/50\n",
      "2303/2303 [==============================] - 133s 58ms/step - loss: 0.0994 - categorical_accuracy: 0.9686\n",
      "Epoch 46/50\n",
      "2303/2303 [==============================] - 133s 58ms/step - loss: 0.0910 - categorical_accuracy: 0.9700\n",
      "Epoch 47/50\n",
      "2303/2303 [==============================] - 133s 58ms/step - loss: 0.0958 - categorical_accuracy: 0.9702\n",
      "Epoch 48/50\n",
      "2303/2303 [==============================] - 133s 58ms/step - loss: 0.0918 - categorical_accuracy: 0.9715\n",
      "Epoch 49/50\n",
      "2303/2303 [==============================] - 134s 58ms/step - loss: 0.0890 - categorical_accuracy: 0.9708\n",
      "Epoch 50/50\n",
      "2303/2303 [==============================] - 133s 58ms/step - loss: 0.0868 - categorical_accuracy: 0.9722\n"
     ]
    }
   ],
   "source": [
    "# next, we need to train with the original plus the augmented data on the exact same architecture\n",
    "plusAugmented_history = model.fit(plusAugmented_train,\n",
    "                    batch_size = batch_size,\n",
    "                    epochs = epochs,\n",
    "                    verbose = 1)"
   ]
  },
  {
   "cell_type": "code",
   "execution_count": 18,
   "metadata": {
    "id": "8Z3hxIdLfMfl"
   },
   "outputs": [],
   "source": [
    "# save one last time\n",
    "model.save(\"pA_16.h5\")"
   ]
  },
  {
   "cell_type": "code",
   "execution_count": 19,
   "metadata": {
    "colab": {
     "base_uri": "https://localhost:8080/",
     "height": 297
    },
    "id": "fMXDalxMeOPb",
    "outputId": "3381f28f-66ed-4714-c700-32230f2eca71"
   },
   "outputs": [
    {
     "data": {
      "image/png": "[encoded data removed]",
      "text/plain": [
       "<Figure size 432x288 with 2 Axes>"
      ]
     },
     "metadata": {
      "needs_background": "light",
      "tags": []
     },
     "output_type": "display_data"
    }
   ],
   "source": [
    "# how did we do?\n",
    "# graphically display results of training\n",
    "plt.figure()\n",
    "plt.subplot(211)\n",
    "plt.plot(plusAugmented_history.history['categorical_accuracy'])\n",
    "plt.title('Using Augmented Plus Origianl Data: Model Accuracy')\n",
    "plt.ylabel('Accuracy')\n",
    "plt.xlabel('Epoch')\n",
    "plt.legend(['training'], loc = 'upper left')\n",
    "\n",
    "plt.subplot(212)\n",
    "plt.plot(plusAugmented_history.history['loss'])\n",
    "plt.title('Using Augmented Plus Original Data: Model Loss')\n",
    "plt.ylabel('Loss')\n",
    "plt.xlabel('Epoch')\n",
    "plt.legend(['training'], loc = 'upper right')\n",
    "\n",
    "plt.tight_layout()\n",
    "plt.show()\n"
   ]
  },
  {
   "cell_type": "code",
   "execution_count": 20,
   "metadata": {
    "colab": {
     "base_uri": "https://localhost:8080/"
    },
    "id": "BlJ3GmVGTaEw",
    "outputId": "153b4aa4-89f7-404a-a1c9-5396802e578a"
   },
   "outputs": [
    {
     "name": "stdout",
     "output_type": "stream",
     "text": [
      "987/987 [==============================] - 46s 46ms/step - loss: 0.1274 - categorical_accuracy: 0.9627\n",
      "Using the augmented plus original test samples:\n",
      "Accuracy:  96.271151304245\n",
      "Loss:  0.12736131250858307\n"
     ]
    }
   ],
   "source": [
    "# now let's test with unseen images from the augmented plus original dataset\n",
    "plusAugmented_history_test = model.evaluate(plusAugmented_test, verbose = 1)\n",
    "print(\"Using the augmented plus original test samples:\")\n",
    "print(\"Accuracy: \", plusAugmented_history_test[1] * 100)\n",
    "print(\"Loss: \", plusAugmented_history_test[0])"
   ]
  },
  {
   "cell_type": "markdown",
   "metadata": {},
   "source": [
    "AND NOW.....what we have all been waiting for....\n",
    "Has this really been worth it???\n",
    "\n",
    "Let's check our last model against the unssen images and see how it stacks up against the validation from the original model."
   ]
  },
  {
   "cell_type": "code",
   "execution_count": 21,
   "metadata": {
    "colab": {
     "base_uri": "https://localhost:8080/"
    },
    "id": "oC8Kz8eX4qQJ",
    "outputId": "cb42749e-cb0d-44d8-fd5b-d243adcf36fd"
   },
   "outputs": [
    {
     "name": "stdout",
     "output_type": "stream",
     "text": [
      "11/11 [==============================] - 1s 18ms/step - loss: 0.0571 - categorical_accuracy: 0.9706\n",
      "Using completely unseen originals only:\n",
      "Accuracy:  97.0588207244873\n",
      "Loss:  0.057077936828136444\n"
     ]
    }
   ],
   "source": [
    "# NOW, let's test the plusAugmented model with super secret unseen original images\n",
    "unseen_test_history = model.evaluate(unseen_test, verbose = 1)\n",
    "print(\"Using completely unseen originals only:\")\n",
    "print(\"Accuracy: \", unseen_test_history[1] * 100)\n",
    "print(\"Loss: \", unseen_test_history[0])"
   ]
  },
  {
   "cell_type": "markdown",
   "metadata": {},
   "source": [
    "And you are done!\n",
    "\n",
    "How did it go?  Use the accuracy from the 'unseen_test_history' and compare it to the accuracy from the 'ods_t' to figure out what level of improvement you achieved.\n",
    "\n",
    "One thing you may find is that every time you train up the models (even reusing the same data over and over) you can get different results.\n",
    "During the course of our testing, our results showed varying degrees of improvement.\n",
    "\n",
    "We hope you found this demo informative and enjoyable."
   ]
  }
 ],
 "metadata": {
  "accelerator": "GPU",
  "colab": {
   "collapsed_sections": [],
   "machine_shape": "hm",
   "name": "PROJ_CODE_ 16.ipynb",
   "provenance": []
  },
  "kernelspec": {
   "display_name": "Python 3",
   "language": "python",
   "name": "python3"
  },
  "language_info": {
   "codemirror_mode": {
    "name": "ipython",
    "version": 3
   },
   "file_extension": ".py",
   "mimetype": "text/x-python",
   "name": "python",
   "nbconvert_exporter": "python",
   "pygments_lexer": "ipython3",
   "version": "3.8.6"
  }
 },
 "nbformat": 4,
 "nbformat_minor": 4
}