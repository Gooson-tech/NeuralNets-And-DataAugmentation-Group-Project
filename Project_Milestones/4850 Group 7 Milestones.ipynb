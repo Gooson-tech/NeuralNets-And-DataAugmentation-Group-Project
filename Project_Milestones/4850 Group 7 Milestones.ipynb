{
 "cells": [
  {
   "cell_type": "markdown",
   "id": "juvenile-jenny",
   "metadata": {},
   "source": [
    "CSCI 4850/5850 Group 7"
   ]
  },
  {
   "cell_type": "markdown",
   "id": "civilian-bicycle",
   "metadata": {},
   "source": [
    "Cordell, Gailbreath, Norrod, Swindell"
   ]
  },
  {
   "cell_type": "markdown",
   "id": "protecting-samuel",
   "metadata": {},
   "source": [
    "Milestone 3/15/20"
   ]
  },
  {
   "cell_type": "markdown",
   "id": "careful-smoke",
   "metadata": {},
   "source": [
    "| Deliverable | % Complete | Estimated Completion Date | % Complete by Next Milestone |\n",
    "| :- | :-: | :-: | :-: |\n",
    "| Code | 0% | April 19 | 25% |\n",
    "| Paper | 0% | April 21 | 15% |\n",
    "| Demo | 0% | May 1 | 5% |\n",
    "| Presentation | 0% | May 1 | 5% |"
   ]
  },
  {
   "cell_type": "markdown",
   "id": "choice-status",
   "metadata": {},
   "source": [
    "| What deliverable goals established in the last milestone report were accomplished to the anticipated percentage? |\n",
    "| :- |\n",
    "| Since this is the first milestone report, no anticipated percentages have been made yet. |"
   ]
  },
  {
   "cell_type": "markdown",
   "id": "foreign-ultimate",
   "metadata": {},
   "source": [
    "| What deliverable goals established in the last milestone report were not accomplished to the anticipated percentage? |\n",
    "| :- |\n",
    "| Since this is the first milestone report, no anticipated percentages have been made yet. |"
   ]
  },
  {
   "cell_type": "markdown",
   "id": "entertaining-regulation",
   "metadata": {},
   "source": [
    "| What are the main deliverable goals to meet before the next milestone report, and who is working on them? |\n",
    "| :- |\n",
    "| We mainly need to get started on the code, as well as starting the foundations of the paper. |\n",
    "| The code is primarily being worked on by Jesse, with input from the rest of the group. |\n",
    "| The paper is being led by Grayson, with help from Noah and the rest of the group. |\n",
    "| As the code is being worked on, Jacob will be working on the demo. |"
   ]
  },
  {
   "cell_type": "markdown",
   "id": "corresponding-passenger",
   "metadata": {},
   "source": [
    "Milestone 3/22/20"
   ]
  },
  {
   "cell_type": "markdown",
   "id": "atlantic-carnival",
   "metadata": {},
   "source": [
    "| Deliverable | % Complete | Estimated Completion Date | % Complete by Next Milestone |\n",
    "| :- | :-: | :-: | :-: |\n",
    "| Code | 20% | April 19 | 25% |\n",
    "| Paper | 5% | April 21 | 15% |\n",
    "| Demo | 0% | May 1 | 5% |\n",
    "| Presentation | 0% | May 1 | 5% |"
   ]
  },
  {
   "cell_type": "markdown",
   "id": "homeless-meter",
   "metadata": {},
   "source": [
    "| What deliverable goals established in the last milestone report were accomplished to the anticipated percentage? |\n",
    "| :- |\n",
    "| We accidentally made our estimates for 29th instead of the 22nd, so they were a bit over-ambitious. |\n",
    "| We have made significant headway on the code portion so far. |"
   ]
  },
  {
   "cell_type": "markdown",
   "id": "characteristic-arlington",
   "metadata": {},
   "source": [
    "| What deliverable goals established in the last milestone report were not accomplished to the anticipated percentage? |\n",
    "| :- |\n",
    "| We accidentally made our estimates for 29th instead of the 22nd, so they were a bit over-ambitious. |\n",
    "| We have not yet started on the demo or presentation. |"
   ]
  },
  {
   "cell_type": "markdown",
   "id": "geographic-produce",
   "metadata": {},
   "source": [
    "| What are the main deliverable goals to meet before the next milestone report, and who is working on them? |\n",
    "| :- |\n",
    "| The code is coming along nicely, primarily led by Jesse, with input from the rest of the group. |\n",
    "| We will get started on the paper soon, led by Grayson with help from Noah and the rest of the group. |\n",
    "| Jacob will be working on the demo once more code is completed. |"
   ]
  },
  {
   "cell_type": "markdown",
   "id": "homeless-island",
   "metadata": {},
   "source": [
    "Milestone 3/29/20"
   ]
  },
  {
   "cell_type": "markdown",
   "id": "bulgarian-clinton",
   "metadata": {},
   "source": [
    "| Deliverable | % Complete | Estimated Completion Date | % Complete by Next Milestone |\n",
    "| :- | :-: | :-: | :-: |\n",
    "| Code | 20% | April 19 | 35% |\n",
    "| Paper | 10% | April 21 | 20% |\n",
    "| Demo | 0% | May 1 | 5% |\n",
    "| Presentation | 2% | May 1 | 5% |"
   ]
  },
  {
   "cell_type": "markdown",
   "id": "smart-kitchen",
   "metadata": {},
   "source": [
    "| What deliverable goals established in the last milestone report were accomplished to the anticipated percentage? |\n",
    "| :- |\n",
    "| While we did make progress in the past week, we did not reach accomplish any of the anticipated percentages. |"
   ]
  },
  {
   "cell_type": "markdown",
   "id": "mental-payment",
   "metadata": {},
   "source": [
    "| What deliverable goals established in the last milestone report were not accomplished to the anticipated percentage? |\n",
    "| :- |\n",
    "| We made some progress on the code and paper, but not the anticipated amount. |\n",
    "| We have also not started on the demo and have just started the presentation. |"
   ]
  },
  {
   "cell_type": "markdown",
   "id": "wanted-preview",
   "metadata": {},
   "source": [
    "| What are the main deliverable goals to meet before the next milestone report, and who is working on them? |\n",
    "| :- |\n",
    "| Jesse is still leading development of the code, and that is obviously still the main focus at the moment. |\n",
    "| We also need to have the data set prepared by the next milestone report. |\n",
    "| We have continued to collect resources for the paper, which will be led by Grayson with help from Noah and the rest of the group. |\n",
    "| For now we can't really do much in terms of the demo, but Jacob will be leading it once we have enough of the code complete. |"
   ]
  },
  {
   "cell_type": "markdown",
   "id": "preliminary-camera",
   "metadata": {},
   "source": [
    "Milestone 4/5/20"
   ]
  },
  {
   "cell_type": "markdown",
   "id": "arranged-harvard",
   "metadata": {},
   "source": [
    "| Deliverable | % Complete | Estimated Completion Date | % Complete by Next Milestone |\n",
    "| :- | :-: | :-: | :-: |\n",
    "| Code | 25% | April 19 | 35% |\n",
    "| Paper | 16% | April 21 | 20% |\n",
    "| Demo | 0% | May 1 | 0% |\n",
    "| Presentation | 2% | May 1 | 5% |"
   ]
  },
  {
   "cell_type": "markdown",
   "id": "congressional-squad",
   "metadata": {},
   "source": [
    "| What deliverable goals established in the last milestone report were accomplished to the anticipated percentage? |\n",
    "| :- |\n",
    "| While we did make progress in the past week, we did not reach accomplish any of the anticipated percentages. |"
   ]
  },
  {
   "cell_type": "markdown",
   "id": "equal-sewing",
   "metadata": {},
   "source": [
    "| What deliverable goals established in the last milestone report were not accomplished to the anticipated percentage? |\n",
    "| :- |\n",
    "| We made some progress on the code and paper, but not the anticipated amount. |\n",
    "| We have also not started on the demo and have not worked more on the presentation this week. |"
   ]
  },
  {
   "cell_type": "markdown",
   "id": "portuguese-muslim",
   "metadata": {},
   "source": [
    "| What are the main deliverable goals to meet before the next milestone report, and who is working on them? |\n",
    "| :- |\n",
    "| Jesse made a lot of progress on the code, but we hit a snag that set us back a bit. |\n",
    "| We have started the actual writing phase of the paper, which will be led by Grayson with help from Noah and the rest of the group. |\n",
    "| For now we can't really do much in terms of the demo, but Jacob will be leading it once we have enough of the code complete. |"
   ]
  },
  {
   "cell_type": "markdown",
   "id": "european-check",
   "metadata": {},
   "source": [
    "Milestone 4/12/20"
   ]
  },
  {
   "cell_type": "markdown",
   "id": "seeing-infrared",
   "metadata": {},
   "source": [
    "| Deliverable | % Complete | Estimated Completion Date | % Complete by Next Milestone |\n",
    "| :- | :-: | :-: | :-: |\n",
    "| Code | 60% | April 19 | 100% |\n",
    "| Paper | 16% | April 21 | 33% |\n",
    "| Demo | 0% | May 1 | 25% |\n",
    "| Presentation | 2% | May 1 | 5% |"
   ]
  },
  {
   "cell_type": "markdown",
   "id": "headed-grill",
   "metadata": {},
   "source": [
    "| What deliverable goals established in the last milestone report were accomplished to the anticipated percentage? |\n",
    "| :- |\n",
    "| We not only met our expected goal for the code, we have exceeded it. |\n",
    "| We now have the data set ready and are working on preparing the network around it. |"
   ]
  },
  {
   "cell_type": "markdown",
   "id": "varying-panic",
   "metadata": {},
   "source": [
    "| What deliverable goals established in the last milestone report were not accomplished to the anticipated percentage? |\n",
    "| :- |\n",
    "| Despite our progress on the code, we didn't really progress on the other deliverables this week. |"
   ]
  },
  {
   "cell_type": "markdown",
   "id": "dependent-speech",
   "metadata": {},
   "source": [
    "| What are the main deliverable goals to meet before the next milestone report, and who is working on them? |\n",
    "| :- |\n",
    "| Jesse and Grayson made significant progress on the code so far, and will keep up the good work. |\n",
    "| We have the structure for the paper, which is being led by Grayson and Noah, but will be adding more content now that the code is more complete. |\n",
    "| Now that the code is nearly done, Jacob will be leading the demo. |\n",
    "| Jacob is also putting together an explanation of the data augmentation that will be part of the paper and demo. |"
   ]
  }
 ],
 "metadata": {
  "kernelspec": {
   "display_name": "Python 3",
   "language": "python",
   "name": "python3"
  },
  "language_info": {
   "codemirror_mode": {
    "name": "ipython",
    "version": 3
   },
   "file_extension": ".py",
   "mimetype": "text/x-python",
   "name": "python",
   "nbconvert_exporter": "python",
   "pygments_lexer": "ipython3",
   "version": "3.8.6"
  }
 },
 "nbformat": 4,
 "nbformat_minor": 5
}
